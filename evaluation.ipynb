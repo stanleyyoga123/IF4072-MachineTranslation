{
 "cells": [
  {
   "cell_type": "code",
   "execution_count": 1,
   "metadata": {},
   "outputs": [],
   "source": [
    "from nltk.translate.bleu_score import sentence_bleu\n",
    "from tqdm import tqdm\n",
    "import pandas as pd"
   ]
  },
  {
   "cell_type": "code",
   "execution_count": 18,
   "metadata": {},
   "outputs": [],
   "source": [
    "df = pd.read_csv('data/prediction_val_256.csv')"
   ]
  },
  {
   "cell_type": "code",
   "execution_count": 19,
   "metadata": {},
   "outputs": [],
   "source": [
    "reference = []\n",
    "preds = []\n",
    "for text in df['preds'].values:\n",
    "    try:\n",
    "        preds.append(text.split())\n",
    "    except:\n",
    "        preds.append(' ')\n",
    "        \n",
    "for text in df['target'].values:\n",
    "    try:\n",
    "        reference.append(text.split())\n",
    "    except:\n",
    "        reference.append(' ')"
   ]
  },
  {
   "cell_type": "code",
   "execution_count": 20,
   "metadata": {},
   "outputs": [
    {
     "data": {
      "text/html": [
       "<div>\n",
       "<style scoped>\n",
       "    .dataframe tbody tr th:only-of-type {\n",
       "        vertical-align: middle;\n",
       "    }\n",
       "\n",
       "    .dataframe tbody tr th {\n",
       "        vertical-align: top;\n",
       "    }\n",
       "\n",
       "    .dataframe thead th {\n",
       "        text-align: right;\n",
       "    }\n",
       "</style>\n",
       "<table border=\"1\" class=\"dataframe\">\n",
       "  <thead>\n",
       "    <tr style=\"text-align: right;\">\n",
       "      <th></th>\n",
       "      <th>input</th>\n",
       "      <th>target</th>\n",
       "      <th>preds</th>\n",
       "    </tr>\n",
       "  </thead>\n",
       "  <tbody>\n",
       "    <tr>\n",
       "      <th>1818</th>\n",
       "      <td>Namun, sang bayi tidak mau bernapas</td>\n",
       "      <td>but the baby wouldnt breathe</td>\n",
       "      <td>then the baby wont show</td>\n",
       "    </tr>\n",
       "    <tr>\n",
       "      <th>1180</th>\n",
       "      <td>Namun, di situlah masalah-nya</td>\n",
       "      <td>and thats just the problem</td>\n",
       "      <td>then in that matter , the problem is</td>\n",
       "    </tr>\n",
       "    <tr>\n",
       "      <th>1865</th>\n",
       "      <td>Dan Yesus sungguh luar biasa!</td>\n",
       "      <td>and he is truly amazing !</td>\n",
       "      <td>and jesus must be obedient into the end !</td>\n",
       "    </tr>\n",
       "    <tr>\n",
       "      <th>838</th>\n",
       "      <td>Tanggapan yang sungguh tidak masuk akal</td>\n",
       "      <td>that response was very disturbing</td>\n",
       "      <td>the most reasonable response that is wrong</td>\n",
       "    </tr>\n",
       "    <tr>\n",
       "      <th>252</th>\n",
       "      <td>Modern Farmer (dalam bahasa Inggris).</td>\n",
       "      <td>modern farmer .</td>\n",
       "      <td>modern farmer in french .</td>\n",
       "    </tr>\n",
       "    <tr>\n",
       "      <th>486</th>\n",
       "      <td>Penempel Stiker Liar Bakal Ditindak</td>\n",
       "      <td>illegal stickers pasting culprits will be sanc...</td>\n",
       "      <td>gids weighed advances !</td>\n",
       "    </tr>\n",
       "    <tr>\n",
       "      <th>1121</th>\n",
       "      <td>Lalu, si rusa belajar untuk bersikap layaknya ...</td>\n",
       "      <td>so he taught himself to act like a horse</td>\n",
       "      <td>the scholar of orphans is like a horse .</td>\n",
       "    </tr>\n",
       "    <tr>\n",
       "      <th>195</th>\n",
       "      <td>\"Kemudian, permintaan tersebut dipenuhi dari i...</td>\n",
       "      <td>so ,  their pain is represented by the guitarv...</td>\n",
       "      <td>then that would be destroyed over walking of t...</td>\n",
       "    </tr>\n",
       "    <tr>\n",
       "      <th>215</th>\n",
       "      <td>Masih direncanakan juga untuk mengirim ke bebe...</td>\n",
       "      <td>he is credited with designing many other cours...</td>\n",
       "      <td>especially popular enthusiasts for hosts .</td>\n",
       "    </tr>\n",
       "    <tr>\n",
       "      <th>82</th>\n",
       "      <td>Musannif Ryacudu tutup usia pada tahun 1987.</td>\n",
       "      <td>rudolf nureyev had a residence in la turbie un...</td>\n",
       "      <td>he entered the scene of age in .</td>\n",
       "    </tr>\n",
       "  </tbody>\n",
       "</table>\n",
       "</div>"
      ],
      "text/plain": [
       "                                                  input  \\\n",
       "1818                Namun, sang bayi tidak mau bernapas   \n",
       "1180                      Namun, di situlah masalah-nya   \n",
       "1865                      Dan Yesus sungguh luar biasa!   \n",
       "838             Tanggapan yang sungguh tidak masuk akal   \n",
       "252               Modern Farmer (dalam bahasa Inggris).   \n",
       "486                 Penempel Stiker Liar Bakal Ditindak   \n",
       "1121  Lalu, si rusa belajar untuk bersikap layaknya ...   \n",
       "195   \"Kemudian, permintaan tersebut dipenuhi dari i...   \n",
       "215   Masih direncanakan juga untuk mengirim ke bebe...   \n",
       "82         Musannif Ryacudu tutup usia pada tahun 1987.   \n",
       "\n",
       "                                                 target  \\\n",
       "1818                       but the baby wouldnt breathe   \n",
       "1180                         and thats just the problem   \n",
       "1865                          and he is truly amazing !   \n",
       "838                   that response was very disturbing   \n",
       "252                                     modern farmer .   \n",
       "486   illegal stickers pasting culprits will be sanc...   \n",
       "1121           so he taught himself to act like a horse   \n",
       "195   so ,  their pain is represented by the guitarv...   \n",
       "215   he is credited with designing many other cours...   \n",
       "82    rudolf nureyev had a residence in la turbie un...   \n",
       "\n",
       "                                                  preds  \n",
       "1818                            then the baby wont show  \n",
       "1180               then in that matter , the problem is  \n",
       "1865          and jesus must be obedient into the end !  \n",
       "838          the most reasonable response that is wrong  \n",
       "252                           modern farmer in french .  \n",
       "486                             gids weighed advances !  \n",
       "1121           the scholar of orphans is like a horse .  \n",
       "195   then that would be destroyed over walking of t...  \n",
       "215          especially popular enthusiasts for hosts .  \n",
       "82                     he entered the scene of age in .  "
      ]
     },
     "execution_count": 20,
     "metadata": {},
     "output_type": "execute_result"
    }
   ],
   "source": [
    "df.sample(10)"
   ]
  },
  {
   "cell_type": "code",
   "execution_count": 21,
   "metadata": {},
   "outputs": [
    {
     "name": "stderr",
     "output_type": "stream",
     "text": [
      "  0%|                                                                                         | 0/1903 [00:00<?, ?it/s]C:\\Users\\user\\anaconda3\\envs\\nlp\\lib\\site-packages\\nltk\\translate\\bleu_score.py:516: UserWarning: \n",
      "The hypothesis contains 0 counts of 3-gram overlaps.\n",
      "Therefore the BLEU score evaluates to 0, independently of\n",
      "how many N-gram overlaps of lower order it contains.\n",
      "Consider using lower n-gram order or use SmoothingFunction()\n",
      "  warnings.warn(_msg)\n",
      "C:\\Users\\user\\anaconda3\\envs\\nlp\\lib\\site-packages\\nltk\\translate\\bleu_score.py:516: UserWarning: \n",
      "The hypothesis contains 0 counts of 4-gram overlaps.\n",
      "Therefore the BLEU score evaluates to 0, independently of\n",
      "how many N-gram overlaps of lower order it contains.\n",
      "Consider using lower n-gram order or use SmoothingFunction()\n",
      "  warnings.warn(_msg)\n",
      "C:\\Users\\user\\anaconda3\\envs\\nlp\\lib\\site-packages\\nltk\\translate\\bleu_score.py:516: UserWarning: \n",
      "The hypothesis contains 0 counts of 2-gram overlaps.\n",
      "Therefore the BLEU score evaluates to 0, independently of\n",
      "how many N-gram overlaps of lower order it contains.\n",
      "Consider using lower n-gram order or use SmoothingFunction()\n",
      "  warnings.warn(_msg)\n",
      "100%|███████████████████████████████████████████████████████████████████████████| 1903/1903 [00:00<00:00, 10862.09it/s]\n"
     ]
    }
   ],
   "source": [
    "scores = []\n",
    "for i in tqdm(range(len(preds))):\n",
    "    score = sentence_bleu([reference[i]], preds[i])\n",
    "    scores.append(score)"
   ]
  },
  {
   "cell_type": "code",
   "execution_count": 22,
   "metadata": {
    "scrolled": true
   },
   "outputs": [],
   "source": [
    "df_scores = pd.DataFrame(scores)"
   ]
  },
  {
   "cell_type": "code",
   "execution_count": 23,
   "metadata": {},
   "outputs": [
    {
     "data": {
      "text/plain": [
       "34"
      ]
     },
     "execution_count": 23,
     "metadata": {},
     "output_type": "execute_result"
    }
   ],
   "source": [
    "len(df_scores[df_scores[0] > 0.4])"
   ]
  },
  {
   "cell_type": "code",
   "execution_count": 24,
   "metadata": {},
   "outputs": [
    {
     "data": {
      "text/plain": [
       "1.6828080143030273"
      ]
     },
     "execution_count": 24,
     "metadata": {},
     "output_type": "execute_result"
    }
   ],
   "source": [
    "sum(scores) / len(scores) * 100"
   ]
  }
 ],
 "metadata": {
  "kernelspec": {
   "display_name": "Python 3 (ipykernel)",
   "language": "python",
   "name": "python3"
  },
  "language_info": {
   "codemirror_mode": {
    "name": "ipython",
    "version": 3
   },
   "file_extension": ".py",
   "mimetype": "text/x-python",
   "name": "python",
   "nbconvert_exporter": "python",
   "pygments_lexer": "ipython3",
   "version": "3.7.11"
  }
 },
 "nbformat": 4,
 "nbformat_minor": 4
}
