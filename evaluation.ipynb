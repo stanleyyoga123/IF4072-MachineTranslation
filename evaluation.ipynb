{
 "cells": [
  {
   "cell_type": "code",
   "execution_count": 36,
   "metadata": {},
   "outputs": [],
   "source": [
    "from nltk.translate.bleu_score import sentence_bleu\n",
    "from tqdm import tqdm\n",
    "import pandas as pd"
   ]
  },
  {
   "cell_type": "code",
   "execution_count": 37,
   "metadata": {},
   "outputs": [],
   "source": [
    "df = pd.read_csv('data/prediction_train.csv')"
   ]
  },
  {
   "cell_type": "code",
   "execution_count": 38,
   "metadata": {},
   "outputs": [],
   "source": [
    "reference = []\n",
    "preds = []\n",
    "for text in df['preds'].values:\n",
    "    try:\n",
    "        preds.append(text.split())\n",
    "    except:\n",
    "        preds.append(' ')\n",
    "        \n",
    "for text in df['target'].values:\n",
    "    try:\n",
    "        reference.append(text.split())\n",
    "    except:\n",
    "        reference.append(' ')"
   ]
  },
  {
   "cell_type": "code",
   "execution_count": 40,
   "metadata": {},
   "outputs": [
    {
     "data": {
      "text/html": [
       "<div>\n",
       "<style scoped>\n",
       "    .dataframe tbody tr th:only-of-type {\n",
       "        vertical-align: middle;\n",
       "    }\n",
       "\n",
       "    .dataframe tbody tr th {\n",
       "        vertical-align: top;\n",
       "    }\n",
       "\n",
       "    .dataframe thead th {\n",
       "        text-align: right;\n",
       "    }\n",
       "</style>\n",
       "<table border=\"1\" class=\"dataframe\">\n",
       "  <thead>\n",
       "    <tr style=\"text-align: right;\">\n",
       "      <th></th>\n",
       "      <th>input</th>\n",
       "      <th>target</th>\n",
       "      <th>preds</th>\n",
       "    </tr>\n",
       "  </thead>\n",
       "  <tbody>\n",
       "    <tr>\n",
       "      <th>0</th>\n",
       "      <td>Pak Tanaka bukan murid.</td>\n",
       "      <td>mr .  tanaka is not a student .</td>\n",
       "      <td>mr . tanaka is no student .</td>\n",
       "    </tr>\n",
       "    <tr>\n",
       "      <th>1</th>\n",
       "      <td>Ayah saya guru.</td>\n",
       "      <td>my father is a teacher .</td>\n",
       "      <td>my father is a science teacher .</td>\n",
       "    </tr>\n",
       "    <tr>\n",
       "      <th>2</th>\n",
       "      <td>Sekolah sedang libur.</td>\n",
       "      <td>there is no school .</td>\n",
       "      <td>school is holiday .</td>\n",
       "    </tr>\n",
       "    <tr>\n",
       "      <th>3</th>\n",
       "      <td>Tokyo cerah.</td>\n",
       "      <td>it was sunny in tokyo .</td>\n",
       "      <td>classroom are nice to him .</td>\n",
       "    </tr>\n",
       "    <tr>\n",
       "      <th>4</th>\n",
       "      <td>Di taman ada pohon.</td>\n",
       "      <td>there is a tree in the park .</td>\n",
       "      <td>are a tree in the park .</td>\n",
       "    </tr>\n",
       "    <tr>\n",
       "      <th>...</th>\n",
       "      <td>...</td>\n",
       "      <td>...</td>\n",
       "      <td>...</td>\n",
       "    </tr>\n",
       "    <tr>\n",
       "      <th>458153</th>\n",
       "      <td>Ya , ada banyak penyebab kekecewaan .</td>\n",
       "      <td>indeed  ,  many are the causes of disappointme...</td>\n",
       "      <td>indeed , there are many causes of disappointme...</td>\n",
       "    </tr>\n",
       "    <tr>\n",
       "      <th>458154</th>\n",
       "      <td>11 : 1 ; Ibr .</td>\n",
       "      <td>heb  .</td>\n",
       "      <td>heb .</td>\n",
       "    </tr>\n",
       "    <tr>\n",
       "      <th>458155</th>\n",
       "      <td>Bagaimana kita dapat memuaskan kebutuhan rohan...</td>\n",
       "      <td>how can we satisfy such spiritual needs  ?</td>\n",
       "      <td>how can we satisfy such spiritual needs ?</td>\n",
       "    </tr>\n",
       "    <tr>\n",
       "      <th>458156</th>\n",
       "      <td>Tarian dan Kemesraan</td>\n",
       "      <td>dance and romance</td>\n",
       "      <td>dance sports .</td>\n",
       "    </tr>\n",
       "    <tr>\n",
       "      <th>458157</th>\n",
       "      <td>Salah satu taktik Iblis adalah penganiayaan .</td>\n",
       "      <td>one of the devils tactics is persecution  .</td>\n",
       "      <td>one of the devils tactics was persecution .</td>\n",
       "    </tr>\n",
       "  </tbody>\n",
       "</table>\n",
       "<p>458158 rows × 3 columns</p>\n",
       "</div>"
      ],
      "text/plain": [
       "                                                    input  \\\n",
       "0                                 Pak Tanaka bukan murid.   \n",
       "1                                         Ayah saya guru.   \n",
       "2                                   Sekolah sedang libur.   \n",
       "3                                            Tokyo cerah.   \n",
       "4                                     Di taman ada pohon.   \n",
       "...                                                   ...   \n",
       "458153              Ya , ada banyak penyebab kekecewaan .   \n",
       "458154                                     11 : 1 ; Ibr .   \n",
       "458155  Bagaimana kita dapat memuaskan kebutuhan rohan...   \n",
       "458156                               Tarian dan Kemesraan   \n",
       "458157      Salah satu taktik Iblis adalah penganiayaan .   \n",
       "\n",
       "                                                   target  \\\n",
       "0                         mr .  tanaka is not a student .   \n",
       "1                                my father is a teacher .   \n",
       "2                                    there is no school .   \n",
       "3                                 it was sunny in tokyo .   \n",
       "4                           there is a tree in the park .   \n",
       "...                                                   ...   \n",
       "458153  indeed  ,  many are the causes of disappointme...   \n",
       "458154                                             heb  .   \n",
       "458155         how can we satisfy such spiritual needs  ?   \n",
       "458156                                  dance and romance   \n",
       "458157        one of the devils tactics is persecution  .   \n",
       "\n",
       "                                                    preds  \n",
       "0                             mr . tanaka is no student .  \n",
       "1                        my father is a science teacher .  \n",
       "2                                     school is holiday .  \n",
       "3                             classroom are nice to him .  \n",
       "4                                are a tree in the park .  \n",
       "...                                                   ...  \n",
       "458153  indeed , there are many causes of disappointme...  \n",
       "458154                                              heb .  \n",
       "458155          how can we satisfy such spiritual needs ?  \n",
       "458156                                     dance sports .  \n",
       "458157        one of the devils tactics was persecution .  \n",
       "\n",
       "[458158 rows x 3 columns]"
      ]
     },
     "execution_count": 40,
     "metadata": {},
     "output_type": "execute_result"
    }
   ],
   "source": [
    "df"
   ]
  },
  {
   "cell_type": "code",
   "execution_count": 41,
   "metadata": {},
   "outputs": [
    {
     "name": "stderr",
     "output_type": "stream",
     "text": [
      "  0%|                                                                                       | 0/458158 [00:00<?, ?it/s]C:\\Users\\user\\anaconda3\\envs\\nlp\\lib\\site-packages\\nltk\\translate\\bleu_score.py:516: UserWarning: \n",
      "The hypothesis contains 0 counts of 2-gram overlaps.\n",
      "Therefore the BLEU score evaluates to 0, independently of\n",
      "how many N-gram overlaps of lower order it contains.\n",
      "Consider using lower n-gram order or use SmoothingFunction()\n",
      "  warnings.warn(_msg)\n",
      "C:\\Users\\user\\anaconda3\\envs\\nlp\\lib\\site-packages\\nltk\\translate\\bleu_score.py:516: UserWarning: \n",
      "The hypothesis contains 0 counts of 3-gram overlaps.\n",
      "Therefore the BLEU score evaluates to 0, independently of\n",
      "how many N-gram overlaps of lower order it contains.\n",
      "Consider using lower n-gram order or use SmoothingFunction()\n",
      "  warnings.warn(_msg)\n",
      "C:\\Users\\user\\anaconda3\\envs\\nlp\\lib\\site-packages\\nltk\\translate\\bleu_score.py:516: UserWarning: \n",
      "The hypothesis contains 0 counts of 4-gram overlaps.\n",
      "Therefore the BLEU score evaluates to 0, independently of\n",
      "how many N-gram overlaps of lower order it contains.\n",
      "Consider using lower n-gram order or use SmoothingFunction()\n",
      "  warnings.warn(_msg)\n",
      "100%|███████████████████████████████████████████████████████████████████████| 458158/458158 [00:42<00:00, 10817.22it/s]\n"
     ]
    }
   ],
   "source": [
    "scores = []\n",
    "for i in tqdm(range(len(preds))):\n",
    "    score = sentence_bleu([reference[i]], preds[i])\n",
    "    scores.append(score)"
   ]
  },
  {
   "cell_type": "code",
   "execution_count": 42,
   "metadata": {
    "scrolled": true
   },
   "outputs": [],
   "source": [
    "df_scores = pd.DataFrame(scores)"
   ]
  },
  {
   "cell_type": "code",
   "execution_count": 43,
   "metadata": {},
   "outputs": [
    {
     "data": {
      "text/plain": [
       "55606"
      ]
     },
     "execution_count": 43,
     "metadata": {},
     "output_type": "execute_result"
    }
   ],
   "source": [
    "len(df_scores[df_scores[0] > 0.4])"
   ]
  },
  {
   "cell_type": "code",
   "execution_count": 44,
   "metadata": {},
   "outputs": [
    {
     "data": {
      "text/plain": [
       "10.664434851629274"
      ]
     },
     "execution_count": 44,
     "metadata": {},
     "output_type": "execute_result"
    }
   ],
   "source": [
    "sum(scores) / len(scores) * 100"
   ]
  }
 ],
 "metadata": {
  "kernelspec": {
   "display_name": "Python 3 (ipykernel)",
   "language": "python",
   "name": "python3"
  },
  "language_info": {
   "codemirror_mode": {
    "name": "ipython",
    "version": 3
   },
   "file_extension": ".py",
   "mimetype": "text/x-python",
   "name": "python",
   "nbconvert_exporter": "python",
   "pygments_lexer": "ipython3",
   "version": "3.7.11"
  }
 },
 "nbformat": 4,
 "nbformat_minor": 4
}
