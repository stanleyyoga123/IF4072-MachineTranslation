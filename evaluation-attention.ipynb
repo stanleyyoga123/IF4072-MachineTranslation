{
 "cells": [
  {
   "cell_type": "code",
   "execution_count": 1,
   "metadata": {},
   "outputs": [],
   "source": [
    "from nltk.translate.bleu_score import sentence_bleu\n",
    "from tqdm import tqdm\n",
    "import pandas as pd"
   ]
  },
  {
   "cell_type": "markdown",
   "metadata": {},
   "source": [
    "# Test"
   ]
  },
  {
   "cell_type": "code",
   "execution_count": 12,
   "metadata": {},
   "outputs": [],
   "source": [
    "df = pd.read_csv('data/prediction_test_256_256.csv')"
   ]
  },
  {
   "cell_type": "code",
   "execution_count": 13,
   "metadata": {},
   "outputs": [],
   "source": [
    "reference = []\n",
    "preds = []\n",
    "for text in df['preds'].values:\n",
    "    try:\n",
    "        preds.append(text.split())\n",
    "    except:\n",
    "        preds.append(' ')\n",
    "        \n",
    "for text in df['target'].values:\n",
    "    try:\n",
    "        reference.append(text.split())\n",
    "    except:\n",
    "        reference.append(' ')"
   ]
  },
  {
   "cell_type": "code",
   "execution_count": 14,
   "metadata": {},
   "outputs": [
    {
     "data": {
      "text/html": [
       "<div>\n",
       "<style scoped>\n",
       "    .dataframe tbody tr th:only-of-type {\n",
       "        vertical-align: middle;\n",
       "    }\n",
       "\n",
       "    .dataframe tbody tr th {\n",
       "        vertical-align: top;\n",
       "    }\n",
       "\n",
       "    .dataframe thead th {\n",
       "        text-align: right;\n",
       "    }\n",
       "</style>\n",
       "<table border=\"1\" class=\"dataframe\">\n",
       "  <thead>\n",
       "    <tr style=\"text-align: right;\">\n",
       "      <th></th>\n",
       "      <th>input</th>\n",
       "      <th>target</th>\n",
       "      <th>preds</th>\n",
       "    </tr>\n",
       "  </thead>\n",
       "  <tbody>\n",
       "    <tr>\n",
       "      <th>0</th>\n",
       "      <td>Hal ini pun dapat muncul dalam lingkungan kelu...</td>\n",
       "      <td>this is also true of families  .</td>\n",
       "      <td>this can also be seen within a family environm...</td>\n",
       "    </tr>\n",
       "    <tr>\n",
       "      <th>1</th>\n",
       "      <td>Rugerius dari Lauria (ca.</td>\n",
       "      <td>roger of lauria c .</td>\n",
       "      <td>lastsecond tiles of kjpstad .</td>\n",
       "    </tr>\n",
       "    <tr>\n",
       "      <th>2</th>\n",
       "      <td>Waranggi yang sedang bertapa tidak mampu melin...</td>\n",
       "      <td>a crazy man cannot defend himself .</td>\n",
       "      <td>to talk to speaking , you cannot protect yours...</td>\n",
       "    </tr>\n",
       "    <tr>\n",
       "      <th>3</th>\n",
       "      <td>Paper prepared for Symposium Austronesia Pasca...</td>\n",
       "      <td>symposium austronesia ,  pascasarjana linguist...</td>\n",
       "      <td>reporters in liverpool melee reader .</td>\n",
       "    </tr>\n",
       "    <tr>\n",
       "      <th>4</th>\n",
       "      <td>Akhirnya seluruh fasilitas tidak digunakan lagi.</td>\n",
       "      <td>the installation is no longer in use .</td>\n",
       "      <td>the whole aircraft was not used again .</td>\n",
       "    </tr>\n",
       "    <tr>\n",
       "      <th>...</th>\n",
       "      <td>...</td>\n",
       "      <td>...</td>\n",
       "      <td>...</td>\n",
       "    </tr>\n",
       "    <tr>\n",
       "      <th>99995</th>\n",
       "      <td>Tak ada seorangpun yang dapat merubah kalimat-...</td>\n",
       "      <td>there can be no change to gods words .</td>\n",
       "      <td>a few ways a consuming word of calling god .</td>\n",
       "    </tr>\n",
       "    <tr>\n",
       "      <th>99996</th>\n",
       "      <td>Sepertinya ada lift di sekitar sana.</td>\n",
       "      <td>it looks like theres an elevator over there .</td>\n",
       "      <td>theres no cop on that land .</td>\n",
       "    </tr>\n",
       "    <tr>\n",
       "      <th>99997</th>\n",
       "      <td>Kamandanu murka untuk kedua kalinya.</td>\n",
       "      <td>mithuna is heartbroken a second time .</td>\n",
       "      <td>pusher , a second time ca second .</td>\n",
       "    </tr>\n",
       "    <tr>\n",
       "      <th>99998</th>\n",
       "      <td>Danau dibangun selama empat tahun dan selesai ...</td>\n",
       "      <td>construction took four years and was completed...</td>\n",
       "      <td>lake tunnel was built up to four years and wer...</td>\n",
       "    </tr>\n",
       "    <tr>\n",
       "      <th>99999</th>\n",
       "      <td>Armstrong Roberts</td>\n",
       "      <td>armstrong roberts</td>\n",
       "      <td>armstrong roberts</td>\n",
       "    </tr>\n",
       "  </tbody>\n",
       "</table>\n",
       "<p>100000 rows × 3 columns</p>\n",
       "</div>"
      ],
      "text/plain": [
       "                                                   input  \\\n",
       "0      Hal ini pun dapat muncul dalam lingkungan kelu...   \n",
       "1                              Rugerius dari Lauria (ca.   \n",
       "2      Waranggi yang sedang bertapa tidak mampu melin...   \n",
       "3      Paper prepared for Symposium Austronesia Pasca...   \n",
       "4       Akhirnya seluruh fasilitas tidak digunakan lagi.   \n",
       "...                                                  ...   \n",
       "99995  Tak ada seorangpun yang dapat merubah kalimat-...   \n",
       "99996               Sepertinya ada lift di sekitar sana.   \n",
       "99997               Kamandanu murka untuk kedua kalinya.   \n",
       "99998  Danau dibangun selama empat tahun dan selesai ...   \n",
       "99999                                  Armstrong Roberts   \n",
       "\n",
       "                                                  target  \\\n",
       "0                       this is also true of families  .   \n",
       "1                                    roger of lauria c .   \n",
       "2                    a crazy man cannot defend himself .   \n",
       "3      symposium austronesia ,  pascasarjana linguist...   \n",
       "4                 the installation is no longer in use .   \n",
       "...                                                  ...   \n",
       "99995             there can be no change to gods words .   \n",
       "99996      it looks like theres an elevator over there .   \n",
       "99997             mithuna is heartbroken a second time .   \n",
       "99998  construction took four years and was completed...   \n",
       "99999                                  armstrong roberts   \n",
       "\n",
       "                                                   preds  \n",
       "0      this can also be seen within a family environm...  \n",
       "1                          lastsecond tiles of kjpstad .  \n",
       "2      to talk to speaking , you cannot protect yours...  \n",
       "3                  reporters in liverpool melee reader .  \n",
       "4                the whole aircraft was not used again .  \n",
       "...                                                  ...  \n",
       "99995       a few ways a consuming word of calling god .  \n",
       "99996                       theres no cop on that land .  \n",
       "99997                 pusher , a second time ca second .  \n",
       "99998  lake tunnel was built up to four years and wer...  \n",
       "99999                                  armstrong roberts  \n",
       "\n",
       "[100000 rows x 3 columns]"
      ]
     },
     "execution_count": 14,
     "metadata": {},
     "output_type": "execute_result"
    }
   ],
   "source": [
    "df"
   ]
  },
  {
   "cell_type": "code",
   "execution_count": 15,
   "metadata": {},
   "outputs": [
    {
     "name": "stderr",
     "output_type": "stream",
     "text": [
      "  0%|                                                                                       | 0/100000 [00:00<?, ?it/s]C:\\Users\\user\\anaconda3\\envs\\nlp\\lib\\site-packages\\nltk\\translate\\bleu_score.py:516: UserWarning: \n",
      "The hypothesis contains 0 counts of 2-gram overlaps.\n",
      "Therefore the BLEU score evaluates to 0, independently of\n",
      "how many N-gram overlaps of lower order it contains.\n",
      "Consider using lower n-gram order or use SmoothingFunction()\n",
      "  warnings.warn(_msg)\n",
      "C:\\Users\\user\\anaconda3\\envs\\nlp\\lib\\site-packages\\nltk\\translate\\bleu_score.py:516: UserWarning: \n",
      "The hypothesis contains 0 counts of 3-gram overlaps.\n",
      "Therefore the BLEU score evaluates to 0, independently of\n",
      "how many N-gram overlaps of lower order it contains.\n",
      "Consider using lower n-gram order or use SmoothingFunction()\n",
      "  warnings.warn(_msg)\n",
      "C:\\Users\\user\\anaconda3\\envs\\nlp\\lib\\site-packages\\nltk\\translate\\bleu_score.py:516: UserWarning: \n",
      "The hypothesis contains 0 counts of 4-gram overlaps.\n",
      "Therefore the BLEU score evaluates to 0, independently of\n",
      "how many N-gram overlaps of lower order it contains.\n",
      "Consider using lower n-gram order or use SmoothingFunction()\n",
      "  warnings.warn(_msg)\n",
      "100%|████████████████████████████████████████████████████████████████████████| 100000/100000 [00:10<00:00, 9766.32it/s]\n"
     ]
    }
   ],
   "source": [
    "scores = []\n",
    "for i in tqdm(range(len(preds))):\n",
    "    score = sentence_bleu([reference[i]], preds[i])\n",
    "    scores.append(score)"
   ]
  },
  {
   "cell_type": "code",
   "execution_count": 16,
   "metadata": {
    "scrolled": true
   },
   "outputs": [],
   "source": [
    "df_scores = pd.DataFrame({\n",
    "    'id': df['input'],\n",
    "    'en': df['target'],\n",
    "    'preds': df['preds'],\n",
    "    'scores': scores\n",
    "})"
   ]
  },
  {
   "cell_type": "code",
   "execution_count": 17,
   "metadata": {},
   "outputs": [
    {
     "data": {
      "text/plain": [
       "4.071216039118414"
      ]
     },
     "execution_count": 17,
     "metadata": {},
     "output_type": "execute_result"
    }
   ],
   "source": [
    "sum(scores) / len(scores) * 100"
   ]
  },
  {
   "cell_type": "code",
   "execution_count": 19,
   "metadata": {},
   "outputs": [
    {
     "data": {
      "text/html": [
       "<div>\n",
       "<style scoped>\n",
       "    .dataframe tbody tr th:only-of-type {\n",
       "        vertical-align: middle;\n",
       "    }\n",
       "\n",
       "    .dataframe tbody tr th {\n",
       "        vertical-align: top;\n",
       "    }\n",
       "\n",
       "    .dataframe thead th {\n",
       "        text-align: right;\n",
       "    }\n",
       "</style>\n",
       "<table border=\"1\" class=\"dataframe\">\n",
       "  <thead>\n",
       "    <tr style=\"text-align: right;\">\n",
       "      <th></th>\n",
       "      <th>id</th>\n",
       "      <th>en</th>\n",
       "      <th>preds</th>\n",
       "      <th>scores</th>\n",
       "    </tr>\n",
       "  </thead>\n",
       "  <tbody>\n",
       "    <tr>\n",
       "      <th>38</th>\n",
       "      <td>; Jones , K .</td>\n",
       "      <td>jones  ,  k  .</td>\n",
       "      <td>jones , k .</td>\n",
       "      <td>1.000000</td>\n",
       "    </tr>\n",
       "    <tr>\n",
       "      <th>60</th>\n",
       "      <td>” Di Andranomafana , ” jawabnya .</td>\n",
       "      <td>in andranomafana  ,   she replied  .</td>\n",
       "      <td>at am printed , she replied .</td>\n",
       "      <td>0.411134</td>\n",
       "    </tr>\n",
       "    <tr>\n",
       "      <th>64</th>\n",
       "      <td>Aku tidak tahu apa yang harus aku katakan.</td>\n",
       "      <td>i dont know what i should say .</td>\n",
       "      <td>i dont know what to say .</td>\n",
       "      <td>0.423837</td>\n",
       "    </tr>\n",
       "    <tr>\n",
       "      <th>89</th>\n",
       "      <td>\"Pada tahun 2011, ia terakhir bermain untuk FC...</td>\n",
       "      <td>in  ,  he last played for fc mostovikprimorye ...</td>\n",
       "      <td>in , he played for fc mostovikprimorye ussuriy...</td>\n",
       "      <td>0.669048</td>\n",
       "    </tr>\n",
       "    <tr>\n",
       "      <th>90</th>\n",
       "      <td>( Baca Pengkhotbah 7 : 8 , 9 . )</td>\n",
       "      <td>read ecclesiastes     ,    .</td>\n",
       "      <td>read ecclesiastes , .</td>\n",
       "      <td>1.000000</td>\n",
       "    </tr>\n",
       "    <tr>\n",
       "      <th>...</th>\n",
       "      <td>...</td>\n",
       "      <td>...</td>\n",
       "      <td>...</td>\n",
       "      <td>...</td>\n",
       "    </tr>\n",
       "    <tr>\n",
       "      <th>99936</th>\n",
       "      <td>12 ” Pemberian Mulia ” Joachim Barrande</td>\n",
       "      <td>joachim barrandes  kingly gift</td>\n",
       "      <td>joachim barrandes kingly gift</td>\n",
       "      <td>1.000000</td>\n",
       "    </tr>\n",
       "    <tr>\n",
       "      <th>99959</th>\n",
       "      <td>Bersama Istri di Brooklyn , New York</td>\n",
       "      <td>with my wife in brooklyn  ,  new york</td>\n",
       "      <td>with my wife at brooklyn , new york</td>\n",
       "      <td>0.500000</td>\n",
       "    </tr>\n",
       "    <tr>\n",
       "      <th>99961</th>\n",
       "      <td>Film ini dirilis pada 5 Maret 2015.</td>\n",
       "      <td>the film was released on march  ,   .</td>\n",
       "      <td>the film was released on march , .</td>\n",
       "      <td>1.000000</td>\n",
       "    </tr>\n",
       "    <tr>\n",
       "      <th>99966</th>\n",
       "      <td>Ia terakhir bermain untuk FC Rusichi Oryol.</td>\n",
       "      <td>he last played for fc rusichi oryol .</td>\n",
       "      <td>he last played for fc grayna gladly spa .</td>\n",
       "      <td>0.467138</td>\n",
       "    </tr>\n",
       "    <tr>\n",
       "      <th>99991</th>\n",
       "      <td>Alkitab mengatakan bahwa itu memang ada .</td>\n",
       "      <td>the bible says that there are  .</td>\n",
       "      <td>the bible says that .</td>\n",
       "      <td>0.473988</td>\n",
       "    </tr>\n",
       "  </tbody>\n",
       "</table>\n",
       "<p>4583 rows × 4 columns</p>\n",
       "</div>"
      ],
      "text/plain": [
       "                                                      id  \\\n",
       "38                                         ; Jones , K .   \n",
       "60                     ” Di Andranomafana , ” jawabnya .   \n",
       "64            Aku tidak tahu apa yang harus aku katakan.   \n",
       "89     \"Pada tahun 2011, ia terakhir bermain untuk FC...   \n",
       "90                      ( Baca Pengkhotbah 7 : 8 , 9 . )   \n",
       "...                                                  ...   \n",
       "99936            12 ” Pemberian Mulia ” Joachim Barrande   \n",
       "99959               Bersama Istri di Brooklyn , New York   \n",
       "99961                Film ini dirilis pada 5 Maret 2015.   \n",
       "99966        Ia terakhir bermain untuk FC Rusichi Oryol.   \n",
       "99991          Alkitab mengatakan bahwa itu memang ada .   \n",
       "\n",
       "                                                      en  \\\n",
       "38                                        jones  ,  k  .   \n",
       "60                  in andranomafana  ,   she replied  .   \n",
       "64                       i dont know what i should say .   \n",
       "89     in  ,  he last played for fc mostovikprimorye ...   \n",
       "90                          read ecclesiastes     ,    .   \n",
       "...                                                  ...   \n",
       "99936                     joachim barrandes  kingly gift   \n",
       "99959              with my wife in brooklyn  ,  new york   \n",
       "99961              the film was released on march  ,   .   \n",
       "99966              he last played for fc rusichi oryol .   \n",
       "99991                   the bible says that there are  .   \n",
       "\n",
       "                                                   preds    scores  \n",
       "38                                           jones , k .  1.000000  \n",
       "60                         at am printed , she replied .  0.411134  \n",
       "64                             i dont know what to say .  0.423837  \n",
       "89     in , he played for fc mostovikprimorye ussuriy...  0.669048  \n",
       "90                                 read ecclesiastes , .  1.000000  \n",
       "...                                                  ...       ...  \n",
       "99936                      joachim barrandes kingly gift  1.000000  \n",
       "99959                with my wife at brooklyn , new york  0.500000  \n",
       "99961                 the film was released on march , .  1.000000  \n",
       "99966          he last played for fc grayna gladly spa .  0.467138  \n",
       "99991                              the bible says that .  0.473988  \n",
       "\n",
       "[4583 rows x 4 columns]"
      ]
     },
     "execution_count": 19,
     "metadata": {},
     "output_type": "execute_result"
    }
   ],
   "source": [
    "df_scores[df_scores['scores'] > 0.4]"
   ]
  },
  {
   "cell_type": "markdown",
   "metadata": {},
   "source": [
    "# Train"
   ]
  },
  {
   "cell_type": "code",
   "execution_count": 8,
   "metadata": {},
   "outputs": [],
   "source": [
    "df = pd.read_csv('data/prediction_train_256_256.csv')"
   ]
  },
  {
   "cell_type": "code",
   "execution_count": 9,
   "metadata": {},
   "outputs": [],
   "source": [
    "reference = []\n",
    "preds = []\n",
    "for text in df['preds'].values:\n",
    "    try:\n",
    "        preds.append(text.split())\n",
    "    except:\n",
    "        preds.append(' ')\n",
    "        \n",
    "for text in df['target'].values:\n",
    "    try:\n",
    "        reference.append(text.split())\n",
    "    except:\n",
    "        reference.append(' ')"
   ]
  },
  {
   "cell_type": "code",
   "execution_count": 10,
   "metadata": {},
   "outputs": [
    {
     "name": "stderr",
     "output_type": "stream",
     "text": [
      "100%|████████████████████████████████████████████████████████████████████████| 361998/361998 [01:00<00:00, 6028.18it/s]\n"
     ]
    }
   ],
   "source": [
    "scores = []\n",
    "for i in tqdm(range(len(preds))):\n",
    "    score = sentence_bleu([reference[i]], preds[i])\n",
    "    scores.append(score)"
   ]
  },
  {
   "cell_type": "code",
   "execution_count": 11,
   "metadata": {},
   "outputs": [
    {
     "data": {
      "text/plain": [
       "29.73995042186757"
      ]
     },
     "execution_count": 11,
     "metadata": {},
     "output_type": "execute_result"
    }
   ],
   "source": [
    "sum(scores) / len(scores) * 100"
   ]
  }
 ],
 "metadata": {
  "kernelspec": {
   "display_name": "Python 3 (ipykernel)",
   "language": "python",
   "name": "python3"
  },
  "language_info": {
   "codemirror_mode": {
    "name": "ipython",
    "version": 3
   },
   "file_extension": ".py",
   "mimetype": "text/x-python",
   "name": "python",
   "nbconvert_exporter": "python",
   "pygments_lexer": "ipython3",
   "version": "3.7.11"
  }
 },
 "nbformat": 4,
 "nbformat_minor": 4
}
